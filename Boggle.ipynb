{
 "cells": [
  {
   "cell_type": "code",
   "execution_count": 3,
   "metadata": {},
   "outputs": [],
   "source": []
  },
  {
   "cell_type": "code",
   "execution_count": 125,
   "metadata": {},
   "outputs": [
    {
     "name": "stdout",
     "output_type": "stream",
     "text": [
      "(0, 0)\n",
      "[(0, 0), (1, 1)] AT\n",
      "(1, 1)\n",
      "[(0, 0), (1, 1), (1, 0)] ATE\n",
      "(1, 0)\n",
      "(0, 1)\n",
      "[(0, 1), (1, 2)] BO\n",
      "(1, 2)\n",
      "[(0, 1), (1, 2), (1, 1)] BOT\n",
      "(1, 1)\n",
      "(0, 2)\n",
      "[(0, 2), (1, 2)] CO\n",
      "(1, 2)\n",
      "[(0, 2), (1, 2), (0, 3)] COD\n",
      "(0, 3)\n",
      "(0, 3)\n",
      "[(0, 3), (1, 2)] DO\n",
      "(1, 2)\n",
      "[(0, 3), (1, 2), (1, 1)] DOT\n",
      "(1, 1)\n",
      "(1, 0)\n",
      "[(1, 0), (0, 0)] EA\n",
      "(0, 0)\n",
      "[(1, 0), (0, 0), (1, 1)] EAT\n",
      "(1, 1)\n",
      "(1, 3)\n",
      "[(1, 3), (1, 2)] HO\n",
      "(1, 2)\n",
      "[(1, 3), (1, 2), (1, 1)] HOT\n",
      "(1, 1)\n",
      "[(0, 0), (1, 1), (1, 0)]: ATE\n",
      "[(0, 1), (1, 2), (1, 1)]: BOT\n",
      "[(0, 2), (1, 2), (0, 3)]: COD\n",
      "[(0, 3), (1, 2), (1, 1)]: DOT\n",
      "[(1, 0), (0, 0), (1, 1)]: EAT\n",
      "[(1, 3), (1, 2), (1, 1)]: HOT\n",
      "B\n",
      " A\n",
      "  T\n",
      "\n",
      "\n",
      " E\n",
      "  A\n",
      "   T\n",
      "\n",
      "\n",
      "  T\n",
      "\n",
      "\n",
      " O\n",
      "  T\n",
      "\n",
      "\n",
      "C\n",
      " O\n",
      "  T\n",
      "\n",
      "\n",
      "  D\n",
      "\n",
      "\n",
      "D\n",
      " O\n",
      "  T\n",
      "\n",
      "\n",
      "H\n",
      " O\n",
      "  T\n",
      "\n",
      "\n",
      "E\n",
      " A\n",
      "  T\n",
      "\n",
      "\n",
      "A\n",
      " T\n",
      "  E\n",
      "\n",
      "\n"
     ]
    }
   ],
   "source": [
    "grid = ['ABCD', 'ETOH', 'ZZUZ', 'ZZZZ']\n",
    "\n",
    "word_list = [\n",
    "    \"BAT\",\n",
    "    \"BEAT\",\n",
    "    \"BET\",\n",
    "    \"BOT\",\n",
    "    \"COT\",\n",
    "    \"DOT\",\n",
    "    \"HOT\",\n",
    "    \"EAT\",\n",
    "    \"ATE\",\n",
    "    \"COD\"\n",
    "]\n",
    "\n",
    "class Trie:\n",
    "    def __init__(self, word_list):\n",
    "        self.word_list = word_list\n",
    "        self.words = {}\n",
    "\n",
    "    def raw(self):\n",
    "        return self.words\n",
    "\n",
    "    def isPrefix(self, word):\n",
    "        trie = self.words\n",
    "        for elt in word:\n",
    "            try:\n",
    "                trie = trie[elt]\n",
    "            except KeyError:\n",
    "                return False\n",
    "        return True\n",
    "\n",
    "    def ppretty(self, d, indent=0):\n",
    "        for key, value in d.items():\n",
    "            print(' '*indent + str(key))\n",
    "            if isinstance(value, dict) and len(value) != 0:\n",
    "                self.ppretty(value, indent + 1)\n",
    "            else:\n",
    "                if value != {}:\n",
    "                    print(' ' * (indent + 1) + str(value))\n",
    "                else:\n",
    "                    print(\"\\n\")\n",
    "\n",
    "    def pretty(self, intend=0):\n",
    "        self.ppretty(self.words, indent=0)\n",
    "\n",
    "\n",
    "    def add_word(self, dct, word):\n",
    "        hd = word[0:1]\n",
    "        tl = word[1:len(word)]\n",
    "\n",
    "        try:\n",
    "            dct[hd] = self.ingest_word(dct[hd], tl)\n",
    "        except KeyError:\n",
    "            dct[hd] = self.ingest_word({}, tl)\n",
    "        return dct\n",
    "\n",
    "    def addWord(self, word):\n",
    "        self.words = self.add_word(self.words, word)\n",
    "\n",
    "    def ingest_words(self):\n",
    "        dicts = []\n",
    "        for word in self.word_list:\n",
    "            self.addWord(word)\n",
    "        return self.words\n",
    "\n",
    "    def ingest_word(self, dct, word):\n",
    "        head = word[0:1]\n",
    "        #print(\"head: {0}, length head: {1}\".format(head, len(head)))\n",
    "        tail = word[1:len(word)]\n",
    "        #print(\"tail: {0}, length tail: {1}\".format(tail, len(tail)))\n",
    "        try:\n",
    "            if len(tail) > 0:\n",
    "                if dct[head] is not None:\n",
    "                    dct[head] = self.ingest_word(dct[head], word[1:len(word)])\n",
    "            else:\n",
    "                dct[head] = {}\n",
    "        except KeyError:\n",
    "            dct[head] = self.ingest_word({}, word[1:len(word)])\n",
    "        return dct\n",
    "\n",
    "class Boggle:\n",
    "    def __init__(self, word_list, grid):\n",
    "        self.trie = Trie(word_list)\n",
    "        self.trie.ingest_words()\n",
    "        self.grid = grid\n",
    "\n",
    "\n",
    "    def recurse(self, paths):\n",
    "        for i in range(0, len(self.grid)):\n",
    "            for j in range(0, len(self.grid[0])):\n",
    "                path = [(i,j)]\n",
    "                if self.trie.isPrefix(self.path_to_word(path)):\n",
    "                    paths.append(self.recursiveNeighbors(path, (i,j)))\n",
    "        return paths\n",
    "\n",
    "    def path_to_word(self, path):\n",
    "        word = ''\n",
    "        for (x,y) in path:\n",
    "            word += self.grid[x][y]\n",
    "        return word\n",
    "\n",
    "    def recursiveNeighbors(self, path, origin):\n",
    "        print(origin)\n",
    "        x0,y0 = origin\n",
    "        for neighbor in self.findNeighbors(origin):\n",
    "            possible_path = list(path)\n",
    "            possible_path.append(neighbor)\n",
    "            if self.trie.isPrefix(self.path_to_word(possible_path)):\n",
    "                path.append(neighbor)\n",
    "                print(\"{0} {1}\".format(path, self.path_to_word(path)))\n",
    "                self.recursiveNeighbors(path, neighbor)\n",
    "        return path\n",
    "\n",
    "\n",
    "\n",
    "    def process_grid(self):\n",
    "        return self.recurse([])\n",
    "\n",
    "    def findNeighbors(self, point):\n",
    "        (a,b) = point\n",
    "        r = False\n",
    "        l = False\n",
    "        u = False\n",
    "        d = False\n",
    "        neighboring_points = []\n",
    "        width = len(self.grid[0])\n",
    "        height = len(self.grid)\n",
    "\n",
    "        if a == 0:\n",
    "            d = True\n",
    "        elif a == height-1:\n",
    "            u = True\n",
    "        else:\n",
    "            u = True\n",
    "            d = True\n",
    "\n",
    "        if b == 0:\n",
    "            r = True\n",
    "        elif b == width-1:\n",
    "            r = False\n",
    "            l = True\n",
    "        else:\n",
    "            r = True\n",
    "            l = True\n",
    "\n",
    "        moves = {\n",
    "            'u': (a-1, b),\n",
    "            'd': (a+1, b),\n",
    "            'l': (a, b-1),\n",
    "            'r': (a, b+1),\n",
    "            'ur': (a-1, b+1),\n",
    "            'ul': (a-1, b-1),\n",
    "            'dr': (a+1, b+1),\n",
    "            'dl': (a+1, b-1)\n",
    "        }\n",
    "\n",
    "        dirs = {'u': u, 'ur': u and r, 'r':r, 'dr': r and d, 'd':d, 'dl': l and d, 'l': l, 'ul': u and l}\n",
    "        #print(dirs)\n",
    "        for k in dirs.keys():\n",
    "            if dirs[k]:\n",
    "                neighboring_points.append(moves[k])\n",
    "        return neighboring_points\n",
    "\n",
    "# trie = Trie(word_list)\n",
    "# trie.ingest_words()\n",
    "# # print(trie.raw())\n",
    "# print(trie.pretty())\n",
    "# # x.isPrefix(\"AL\")\n",
    "\n",
    "boggle = Boggle(word_list, grid)\n",
    "for item in boggle.process_grid():\n",
    "    print(\"{0}: {1}\".format(item, boggle.path_to_word(item)))\n",
    "\n",
    "boggle.trie.pretty()"
   ]
  },
  {
   "cell_type": "code",
   "execution_count": null,
   "metadata": {},
   "outputs": [],
   "source": []
  },
  {
   "cell_type": "code",
   "execution_count": null,
   "metadata": {},
   "outputs": [],
   "source": []
  },
  {
   "cell_type": "code",
   "execution_count": null,
   "metadata": {},
   "outputs": [],
   "source": []
  },
  {
   "cell_type": "code",
   "execution_count": null,
   "metadata": {},
   "outputs": [],
   "source": []
  },
  {
   "cell_type": "code",
   "execution_count": 98,
   "metadata": {},
   "outputs": [
    {
     "ename": "TypeError",
     "evalue": "iternested() missing 1 required positional argument: 'bat'",
     "output_type": "error",
     "traceback": [
      "\u001b[0;31m---------------------------------------------------------------------------\u001b[0m",
      "\u001b[0;31mTypeError\u001b[0m                                 Traceback (most recent call last)",
      "\u001b[0;32m<ipython-input-98-e05263abf5f8>\u001b[0m in \u001b[0;36m<module>\u001b[0;34m\u001b[0m\n\u001b[1;32m      7\u001b[0m         \u001b[0miternested\u001b[0m\u001b[0;34m(\u001b[0m\u001b[0mbeta\u001b[0m\u001b[0;34m[\u001b[0m\u001b[0mk\u001b[0m\u001b[0;34m]\u001b[0m\u001b[0;34m)\u001b[0m\u001b[0;34m\u001b[0m\u001b[0m\n\u001b[1;32m      8\u001b[0m \u001b[0;34m\u001b[0m\u001b[0m\n\u001b[0;32m----> 9\u001b[0;31m \u001b[0miternested\u001b[0m\u001b[0;34m(\u001b[0m\u001b[0mbeta\u001b[0m\u001b[0;34m)\u001b[0m\u001b[0;34m\u001b[0m\u001b[0m\n\u001b[0m",
      "\u001b[0;31mTypeError\u001b[0m: iternested() missing 1 required positional argument: 'bat'"
     ]
    }
   ],
   "source": [
    "beta = dx[0]\n",
    "bat = dx[1]\n",
    "\n",
    "def iternested(beta, bat):\n",
    "    for k in beta.keys():\n",
    "        beta\n",
    "        iternested(beta[k])\n",
    "\n",
    "iternested(beta)"
   ]
  },
  {
   "cell_type": "code",
   "execution_count": null,
   "metadata": {},
   "outputs": [],
   "source": []
  },
  {
   "cell_type": "code",
   "execution_count": null,
   "metadata": {},
   "outputs": [],
   "source": []
  },
  {
   "cell_type": "code",
   "execution_count": null,
   "metadata": {},
   "outputs": [],
   "source": []
  },
  {
   "cell_type": "code",
   "execution_count": null,
   "metadata": {},
   "outputs": [],
   "source": []
  },
  {
   "cell_type": "code",
   "execution_count": null,
   "metadata": {},
   "outputs": [],
   "source": []
  },
  {
   "cell_type": "code",
   "execution_count": null,
   "metadata": {},
   "outputs": [],
   "source": []
  },
  {
   "cell_type": "code",
   "execution_count": 81,
   "metadata": {},
   "outputs": [],
   "source": [
    "rw = x.raw()"
   ]
  },
  {
   "cell_type": "code",
   "execution_count": null,
   "metadata": {},
   "outputs": [],
   "source": [
    "rw."
   ]
  },
  {
   "cell_type": "code",
   "execution_count": 71,
   "metadata": {},
   "outputs": [],
   "source": []
  },
  {
   "cell_type": "code",
   "execution_count": null,
   "metadata": {},
   "outputs": [],
   "source": []
  },
  {
   "cell_type": "code",
   "execution_count": null,
   "metadata": {},
   "outputs": [],
   "source": []
  },
  {
   "cell_type": "code",
   "execution_count": null,
   "metadata": {},
   "outputs": [],
   "source": []
  },
  {
   "cell_type": "code",
   "execution_count": null,
   "metadata": {},
   "outputs": [],
   "source": []
  },
  {
   "cell_type": "code",
   "execution_count": null,
   "metadata": {},
   "outputs": [],
   "source": []
  },
  {
   "cell_type": "code",
   "execution_count": null,
   "metadata": {},
   "outputs": [],
   "source": []
  },
  {
   "cell_type": "code",
   "execution_count": null,
   "metadata": {},
   "outputs": [],
   "source": []
  },
  {
   "cell_type": "code",
   "execution_count": null,
   "metadata": {},
   "outputs": [],
   "source": [
    "x"
   ]
  },
  {
   "cell_type": "code",
   "execution_count": null,
   "metadata": {},
   "outputs": [],
   "source": []
  },
  {
   "cell_type": "code",
   "execution_count": null,
   "metadata": {},
   "outputs": [],
   "source": []
  },
  {
   "cell_type": "code",
   "execution_count": null,
   "metadata": {},
   "outputs": [],
   "source": []
  },
  {
   "cell_type": "code",
   "execution_count": null,
   "metadata": {},
   "outputs": [],
   "source": []
  },
  {
   "cell_type": "code",
   "execution_count": null,
   "metadata": {},
   "outputs": [],
   "source": []
  },
  {
   "cell_type": "code",
   "execution_count": null,
   "metadata": {},
   "outputs": [],
   "source": []
  },
  {
   "cell_type": "code",
   "execution_count": null,
   "metadata": {},
   "outputs": [],
   "source": []
  },
  {
   "cell_type": "code",
   "execution_count": 15,
   "metadata": {},
   "outputs": [],
   "source": [
    "word = 'BETA'"
   ]
  },
  {
   "cell_type": "code",
   "execution_count": 16,
   "metadata": {},
   "outputs": [
    {
     "data": {
      "text/plain": [
       "'B'"
      ]
     },
     "execution_count": 16,
     "metadata": {},
     "output_type": "execute_result"
    }
   ],
   "source": [
    "word[0:1]"
   ]
  },
  {
   "cell_type": "code",
   "execution_count": 18,
   "metadata": {},
   "outputs": [
    {
     "data": {
      "text/plain": [
       "'ETA'"
      ]
     },
     "execution_count": 18,
     "metadata": {},
     "output_type": "execute_result"
    }
   ],
   "source": [
    "word[1:len(word)]"
   ]
  },
  {
   "cell_type": "code",
   "execution_count": null,
   "metadata": {},
   "outputs": [],
   "source": []
  },
  {
   "cell_type": "code",
   "execution_count": null,
   "metadata": {},
   "outputs": [],
   "source": []
  },
  {
   "cell_type": "code",
   "execution_count": null,
   "metadata": {},
   "outputs": [],
   "source": []
  },
  {
   "cell_type": "code",
   "execution_count": null,
   "metadata": {},
   "outputs": [],
   "source": []
  },
  {
   "cell_type": "code",
   "execution_count": null,
   "metadata": {},
   "outputs": [],
   "source": []
  },
  {
   "cell_type": "code",
   "execution_count": null,
   "metadata": {},
   "outputs": [],
   "source": []
  }
 ],
 "metadata": {
  "kernelspec": {
   "display_name": "Python 3",
   "language": "python",
   "name": "python3"
  },
  "language_info": {
   "codemirror_mode": {
    "name": "ipython",
    "version": 3
   },
   "file_extension": ".py",
   "mimetype": "text/x-python",
   "name": "python",
   "nbconvert_exporter": "python",
   "pygments_lexer": "ipython3",
   "version": "3.7.0"
  }
 },
 "nbformat": 4,
 "nbformat_minor": 2
}
