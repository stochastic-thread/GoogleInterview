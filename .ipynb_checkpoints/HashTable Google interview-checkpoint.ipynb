{
 "cells": [
  {
   "cell_type": "code",
   "execution_count": 7,
   "metadata": {},
   "outputs": [],
   "source": [
    "import hashlib as hl\n",
    "import math\n",
    "import http.server\n",
    "import socketserver\n",
    "\n",
    "\n",
    "\n",
    "class HashTable():    \n",
    "    def __init__(self, n, resize_ratio):\n",
    "        self.table_size = n\n",
    "        self.filled = 0\n",
    "        self.unfilled = (self.table_size - self.filled)\n",
    "        self.table = [None]*self.table_size\n",
    "        self.mirror = [None]*self.table_size\n",
    "        self.resize_ratio = resize_ratio\n",
    "        self.keys = []\n",
    "        self.values = []\n",
    "        \n",
    "    def _keys(self):\n",
    "        return self.keys\n",
    "    \n",
    "    def _values(self):\n",
    "        return self.values\n",
    "        \n",
    "    def _reindex_table_contents(self, new_table, debug=False):\n",
    "        if len(self._keys()) == len(self._values()):\n",
    "            for ik, key in enumerate(self._keys()) :\n",
    "                new_table.SET(key, self._values()[ik])\n",
    "        else:\n",
    "            if debug:\n",
    "                print(\"Table error.\")\n",
    "                print(\"Number keys: {0}, Number vals: {1}\".format(len(self._keys()), len(self._values())))\n",
    "        return new_table\n",
    "        \n",
    "    def _raw_mirror(self):\n",
    "        return self.mirror\n",
    "    \n",
    "    def _new_table(self):\n",
    "        new_table_size = math.ceil(self.table_size*1.75)\n",
    "        new_table = self._reindex_table_contents(HashTable(new_table_size, self.resize_ratio))\n",
    "        return new_table\n",
    "    \n",
    "    def _raw_table(self):\n",
    "        return self.table\n",
    "        \n",
    "    def _index(self, k):\n",
    "        return int(hl.sha3_256(str(k).encode('utf-8')).hexdigest(), 16) % self.table_size\n",
    "    \n",
    "    def SET(self, k, v, debug=False):\n",
    "        self.keys.append(k)\n",
    "        self.values.append(v)\n",
    "        \n",
    "        insertion_index = self._index(k)\n",
    "        if debug:\n",
    "            print(\"insertion index: {0}\".format(insertion_index))\n",
    "        placement = self.table[insertion_index]\n",
    "        if placement is None:\n",
    "            self.table[insertion_index] = v\n",
    "            self.mirror[insertion_index] = k\n",
    "        else:\n",
    "            if type(self.table[insertion_index]) is type(list()):\n",
    "                if debug:\n",
    "                    print(\"Pre-existing element {0} at {1}.\".format(v, k))\n",
    "                self.table[insertion_index].append(v)\n",
    "                self.mirror[insertion_index].append(k)\n",
    "            else:\n",
    "                if debug:\n",
    "                    print(\"Transforming into list.\")\n",
    "                old_v = self.table[insertion_index]\n",
    "                old_mirrorv = self.mirror[insertion_index]\n",
    "                self.table[insertion_index] = []\n",
    "                self.table[insertion_index].append(old_v)\n",
    "                self.table[insertion_index].append(v)\n",
    "                self.mirror[insertion_index] = []\n",
    "                self.mirror[insertion_index].append(old_mirrorv)\n",
    "                self.mirror[insertion_index].append(k)\n",
    "        \n",
    "        self.filled += 1\n",
    "        self.unfilled = self.table_size - self.filled\n",
    "        \n",
    "        if (self.filled/self.table_size) > self.resize_ratio:\n",
    "            return self._new_table()\n",
    "        \n",
    "        return 'success'\n",
    "        \n",
    "    def GET(self, k):\n",
    "        retval = 'failure'\n",
    "        index = self._index(k)\n",
    "        magic_number = None\n",
    "        if type(self.mirror[index]) is type(list()):\n",
    "            for idx, item in enumerate(self.mirror[index]):\n",
    "                if k == item:\n",
    "                    return self.table[index][idx]\n",
    "        else:\n",
    "            return self.table[index]\n",
    "\n",
    "        \n",
    "def test1():\n",
    "    x = HashTable(2**3, 0.85)\n",
    "    for i in range(1,30):\n",
    "        response = x.SET(i, chr(96+i))\n",
    "        # print(\"Response: {0}\".format(response))\n",
    "        if response != 'success':\n",
    "            x = response\n",
    "    return x\n",
    "\n",
    "def main():\n",
    "    ht = test1()\n",
    "    \n",
    "if __name__==\"__main__\":\n",
    "    main()\n",
    "\n",
    "    # for i in range(1,30):\n",
    "    #     print(x.GET(i)) \n",
    "\n",
    "    # print(x._raw_table())\n"
   ]
  },
  {
   "cell_type": "code",
   "execution_count": 8,
   "metadata": {},
   "outputs": [],
   "source": [
    "ht = test1()"
   ]
  },
  {
   "cell_type": "code",
   "execution_count": 11,
   "metadata": {},
   "outputs": [],
   "source": [
    "ht = HashTable(1024, 0.85)"
   ]
  },
  {
   "cell_type": "code",
   "execution_count": null,
   "metadata": {},
   "outputs": [],
   "source": []
  },
  {
   "cell_type": "code",
   "execution_count": null,
   "metadata": {},
   "outputs": [],
   "source": []
  },
  {
   "cell_type": "code",
   "execution_count": null,
   "metadata": {},
   "outputs": [],
   "source": []
  },
  {
   "cell_type": "code",
   "execution_count": null,
   "metadata": {},
   "outputs": [],
   "source": []
  },
  {
   "cell_type": "code",
   "execution_count": null,
   "metadata": {},
   "outputs": [],
   "source": []
  },
  {
   "cell_type": "code",
   "execution_count": null,
   "metadata": {},
   "outputs": [],
   "source": []
  },
  {
   "cell_type": "code",
   "execution_count": 115,
   "metadata": {},
   "outputs": [],
   "source": [
    "# algorithm quicksort(A, lo, hi) is\n",
    "#     if lo < hi then\n",
    "#         p := partition(A, lo, hi)\n",
    "#         quicksort(A, lo, p - 1)\n",
    "#         quicksort(A, p + 1, hi)\n",
    "\n",
    "# algorithm partition(A, lo, hi) is\n",
    "#     pivot := A[hi]\n",
    "#     i := lo\n",
    "#     for j := lo to hi - 1 do\n",
    "#         if A[j] < pivot then\n",
    "#             swap A[i] with A[j]\n",
    "#             i := i + 1\n",
    "#     swap A[i] with A[hi]\n",
    "#     return i\n",
    "\n",
    "\n",
    "class Sorting:\n",
    "    def __init__(self, iterable):\n",
    "        self.iterable = iterable\n",
    "        \n",
    "    def swap(self,j,i):\n",
    "        self.iterable[j],self.iterable[i]=self.iterable[i],self.iterable[j]\n",
    "\n",
    "    def partition(self, lo, hi):\n",
    "        pivot = self.iterable[hi]\n",
    "        i = lo\n",
    "        for j in range(lo, hi):\n",
    "            if self.iterable[j] < pivot:\n",
    "                self.swap(i, j)\n",
    "                i += 1\n",
    "        self.swap(i, hi)\n",
    "        return i\n",
    "        \n",
    "    def qsort(self, lo, hi):\n",
    "        if lo < hi:\n",
    "            p = self.partition(lo, hi)\n",
    "            self.qsort(lo, p-1)\n",
    "            self.qsort(p+1, hi)\n",
    "    \n",
    "    def quicksort(self):\n",
    "        self.qsort(0, len(self.iterable)-1)\n",
    "\n",
    "        "
   ]
  },
  {
   "cell_type": "code",
   "execution_count": 116,
   "metadata": {},
   "outputs": [
    {
     "name": "stdout",
     "output_type": "stream",
     "text": [
      "[-9, -8, -7, -6, -5, -4, -3, -2, -1, 0, 1, 2, 3, 4, 5, 6, 7, 8, 9]\n"
     ]
    }
   ],
   "source": [
    "a = [9,8,7,6,5,4,3,2,1,0,-1,-2,-3,-4,-5,-6,-7,-8,-9]\n",
    "Sorting(a).quicksort()\n",
    "print(a)"
   ]
  },
  {
   "cell_type": "code",
   "execution_count": null,
   "metadata": {},
   "outputs": [],
   "source": []
  },
  {
   "cell_type": "code",
   "execution_count": null,
   "metadata": {},
   "outputs": [],
   "source": []
  },
  {
   "cell_type": "code",
   "execution_count": null,
   "metadata": {},
   "outputs": [],
   "source": []
  },
  {
   "cell_type": "code",
   "execution_count": null,
   "metadata": {},
   "outputs": [],
   "source": []
  },
  {
   "cell_type": "code",
   "execution_count": 43,
   "metadata": {},
   "outputs": [
    {
     "data": {
      "text/plain": [
       "14"
      ]
     },
     "execution_count": 43,
     "metadata": {},
     "output_type": "execute_result"
    }
   ],
   "source": []
  },
  {
   "cell_type": "code",
   "execution_count": null,
   "metadata": {},
   "outputs": [],
   "source": []
  },
  {
   "cell_type": "code",
   "execution_count": null,
   "metadata": {},
   "outputs": [],
   "source": []
  },
  {
   "cell_type": "code",
   "execution_count": null,
   "metadata": {},
   "outputs": [],
   "source": []
  },
  {
   "cell_type": "code",
   "execution_count": 26,
   "metadata": {},
   "outputs": [
    {
     "data": {
      "text/plain": [
       "'b'"
      ]
     },
     "execution_count": 26,
     "metadata": {},
     "output_type": "execute_result"
    }
   ],
   "source": [
    "x.GET(2)"
   ]
  },
  {
   "cell_type": "code",
   "execution_count": null,
   "metadata": {},
   "outputs": [],
   "source": []
  },
  {
   "cell_type": "code",
   "execution_count": 122,
   "metadata": {},
   "outputs": [
    {
     "name": "stdout",
     "output_type": "stream",
     "text": [
      "Collecting flask\n",
      "  Using cached https://files.pythonhosted.org/packages/7f/e7/08578774ed4536d3242b14dacb4696386634607af824ea997202cd0edb4b/Flask-1.0.2-py2.py3-none-any.whl\n",
      "Collecting Jinja2>=2.10 (from flask)\n",
      "  Using cached https://files.pythonhosted.org/packages/7f/ff/ae64bacdfc95f27a016a7bed8e8686763ba4d277a78ca76f32659220a731/Jinja2-2.10-py2.py3-none-any.whl\n",
      "Collecting itsdangerous>=0.24 (from flask)\n",
      "  Using cached https://files.pythonhosted.org/packages/76/ae/44b03b253d6fade317f32c24d100b3b35c2239807046a4c953c7b89fa49e/itsdangerous-1.1.0-py2.py3-none-any.whl\n",
      "Requirement already satisfied: Werkzeug>=0.14 in /usr/local/lib/python2.7/site-packages (from flask) (0.14.1)\n",
      "Collecting click>=5.1 (from flask)\n",
      "  Using cached https://files.pythonhosted.org/packages/fa/37/45185cb5abbc30d7257104c434fe0b07e5a195a6847506c074527aa599ec/Click-7.0-py2.py3-none-any.whl\n",
      "Collecting MarkupSafe>=0.23 (from Jinja2>=2.10->flask)\n",
      "  Downloading https://files.pythonhosted.org/packages/cd/52/927263d9cf66a12e05c5caef43ee203bd92355e9a321552d2b8c4aee5f1e/MarkupSafe-1.1.0-cp27-cp27m-macosx_10_6_intel.whl\n",
      "Installing collected packages: MarkupSafe, Jinja2, itsdangerous, click, flask\n",
      "Successfully installed Jinja2-2.10 MarkupSafe-1.1.0 click-7.0 flask-1.0.2 itsdangerous-1.1.0\n"
     ]
    }
   ],
   "source": [
    "!pip install flask"
   ]
  },
  {
   "cell_type": "code",
   "execution_count": 6,
   "metadata": {},
   "outputs": [
    {
     "name": "stdout",
     "output_type": "stream",
     "text": [
      "serving at port 8880\n"
     ]
    },
    {
     "name": "stderr",
     "output_type": "stream",
     "text": [
      "127.0.0.1 - - [15/Jan/2019 23:53:52] code 404, message File not found\n",
      "127.0.0.1 - - [15/Jan/2019 23:53:52] \"GET /SET?k=123&v=newKey HTTP/1.1\" 404 -\n",
      "127.0.0.1 - - [15/Jan/2019 23:53:52] code 404, message File not found\n",
      "127.0.0.1 - - [15/Jan/2019 23:53:52] \"GET /SET?k=123&v=newKey HTTP/1.1\" 404 -\n",
      "127.0.0.1 - - [15/Jan/2019 23:54:45] code 404, message File not found\n",
      "127.0.0.1 - - [15/Jan/2019 23:54:45] \"GET /SET?k=123&v=newKey HTTP/1.1\" 404 -\n",
      "127.0.0.1 - - [15/Jan/2019 23:54:46] code 404, message File not found\n",
      "127.0.0.1 - - [15/Jan/2019 23:54:46] \"GET /SET?k=123&v=newKey HTTP/1.1\" 404 -\n",
      "127.0.0.1 - - [15/Jan/2019 23:54:46] code 404, message File not found\n",
      "127.0.0.1 - - [15/Jan/2019 23:54:46] \"GET /SET?k=123&v=newKey HTTP/1.1\" 404 -\n"
     ]
    },
    {
     "ename": "KeyboardInterrupt",
     "evalue": "",
     "output_type": "error",
     "traceback": [
      "\u001b[0;31m---------------------------------------------------------------------------\u001b[0m",
      "\u001b[0;31mKeyboardInterrupt\u001b[0m                         Traceback (most recent call last)",
      "\u001b[0;32m<ipython-input-6-69be770b0bce>\u001b[0m in \u001b[0;36m<module>\u001b[0;34m\u001b[0m\n\u001b[1;32m      9\u001b[0m \u001b[0;32mwith\u001b[0m \u001b[0msocketserver\u001b[0m\u001b[0;34m.\u001b[0m\u001b[0mTCPServer\u001b[0m\u001b[0;34m(\u001b[0m\u001b[0;34m(\u001b[0m\u001b[0;34m\"\"\u001b[0m\u001b[0;34m,\u001b[0m \u001b[0mPORT\u001b[0m\u001b[0;34m)\u001b[0m\u001b[0;34m,\u001b[0m \u001b[0mHandler\u001b[0m\u001b[0;34m)\u001b[0m \u001b[0;32mas\u001b[0m \u001b[0mhttpd\u001b[0m\u001b[0;34m:\u001b[0m\u001b[0;34m\u001b[0m\u001b[0m\n\u001b[1;32m     10\u001b[0m     \u001b[0mprint\u001b[0m\u001b[0;34m(\u001b[0m\u001b[0;34m\"serving at port\"\u001b[0m\u001b[0;34m,\u001b[0m \u001b[0mPORT\u001b[0m\u001b[0;34m)\u001b[0m\u001b[0;34m\u001b[0m\u001b[0m\n\u001b[0;32m---> 11\u001b[0;31m     \u001b[0mhttpd\u001b[0m\u001b[0;34m.\u001b[0m\u001b[0mserve_forever\u001b[0m\u001b[0;34m(\u001b[0m\u001b[0;34m)\u001b[0m\u001b[0;34m\u001b[0m\u001b[0m\n\u001b[0m",
      "\u001b[0;32m/usr/local/Cellar/python/3.7.0/Frameworks/Python.framework/Versions/3.7/lib/python3.7/socketserver.py\u001b[0m in \u001b[0;36mserve_forever\u001b[0;34m(self, poll_interval)\u001b[0m\n\u001b[1;32m    230\u001b[0m \u001b[0;34m\u001b[0m\u001b[0m\n\u001b[1;32m    231\u001b[0m                 \u001b[0;32mwhile\u001b[0m \u001b[0;32mnot\u001b[0m \u001b[0mself\u001b[0m\u001b[0;34m.\u001b[0m\u001b[0m__shutdown_request\u001b[0m\u001b[0;34m:\u001b[0m\u001b[0;34m\u001b[0m\u001b[0m\n\u001b[0;32m--> 232\u001b[0;31m                     \u001b[0mready\u001b[0m \u001b[0;34m=\u001b[0m \u001b[0mselector\u001b[0m\u001b[0;34m.\u001b[0m\u001b[0mselect\u001b[0m\u001b[0;34m(\u001b[0m\u001b[0mpoll_interval\u001b[0m\u001b[0;34m)\u001b[0m\u001b[0;34m\u001b[0m\u001b[0m\n\u001b[0m\u001b[1;32m    233\u001b[0m                     \u001b[0;32mif\u001b[0m \u001b[0mready\u001b[0m\u001b[0;34m:\u001b[0m\u001b[0;34m\u001b[0m\u001b[0m\n\u001b[1;32m    234\u001b[0m                         \u001b[0mself\u001b[0m\u001b[0;34m.\u001b[0m\u001b[0m_handle_request_noblock\u001b[0m\u001b[0;34m(\u001b[0m\u001b[0;34m)\u001b[0m\u001b[0;34m\u001b[0m\u001b[0m\n",
      "\u001b[0;32m/usr/local/Cellar/python/3.7.0/Frameworks/Python.framework/Versions/3.7/lib/python3.7/selectors.py\u001b[0m in \u001b[0;36mselect\u001b[0;34m(self, timeout)\u001b[0m\n\u001b[1;32m    413\u001b[0m         \u001b[0mready\u001b[0m \u001b[0;34m=\u001b[0m \u001b[0;34m[\u001b[0m\u001b[0;34m]\u001b[0m\u001b[0;34m\u001b[0m\u001b[0m\n\u001b[1;32m    414\u001b[0m         \u001b[0;32mtry\u001b[0m\u001b[0;34m:\u001b[0m\u001b[0;34m\u001b[0m\u001b[0m\n\u001b[0;32m--> 415\u001b[0;31m             \u001b[0mfd_event_list\u001b[0m \u001b[0;34m=\u001b[0m \u001b[0mself\u001b[0m\u001b[0;34m.\u001b[0m\u001b[0m_selector\u001b[0m\u001b[0;34m.\u001b[0m\u001b[0mpoll\u001b[0m\u001b[0;34m(\u001b[0m\u001b[0mtimeout\u001b[0m\u001b[0;34m)\u001b[0m\u001b[0;34m\u001b[0m\u001b[0m\n\u001b[0m\u001b[1;32m    416\u001b[0m         \u001b[0;32mexcept\u001b[0m \u001b[0mInterruptedError\u001b[0m\u001b[0;34m:\u001b[0m\u001b[0;34m\u001b[0m\u001b[0m\n\u001b[1;32m    417\u001b[0m             \u001b[0;32mreturn\u001b[0m \u001b[0mready\u001b[0m\u001b[0;34m\u001b[0m\u001b[0m\n",
      "\u001b[0;31mKeyboardInterrupt\u001b[0m: "
     ]
    }
   ],
   "source": [
    "\n",
    "import http.server\n",
    "import socketserver\n",
    "\n",
    "PORT = 8880\n",
    "\n",
    "Handler = http.server.SimpleHTTPRequestHandler\n",
    "\n",
    "with socketserver.TCPServer((\"\", PORT), Handler) as httpd:\n",
    "    print(\"serving at port\", PORT)\n",
    "    httpd.serve_forever()"
   ]
  },
  {
   "cell_type": "code",
   "execution_count": null,
   "metadata": {},
   "outputs": [],
   "source": [
    "1+2"
   ]
  },
  {
   "cell_type": "code",
   "execution_count": null,
   "metadata": {},
   "outputs": [],
   "source": []
  },
  {
   "cell_type": "code",
   "execution_count": null,
   "metadata": {},
   "outputs": [],
   "source": []
  },
  {
   "cell_type": "code",
   "execution_count": null,
   "metadata": {},
   "outputs": [],
   "source": []
  },
  {
   "cell_type": "code",
   "execution_count": 34,
   "metadata": {},
   "outputs": [
    {
     "name": "stdout",
     "output_type": "stream",
     "text": [
      " * Serving Flask app \"__main__\" (lazy loading)\n",
      " * Environment: production\n",
      "   WARNING: Do not use the development server in a production environment.\n",
      "   Use a production WSGI server instead.\n",
      " * Debug mode: off\n"
     ]
    },
    {
     "name": "stderr",
     "output_type": "stream",
     "text": [
      " * Running on http://127.0.0.1:5000/ (Press CTRL+C to quit)\n",
      "127.0.0.1 - - [16/Jan/2019 00:08:08] \"GET / HTTP/1.1\" 200 -\n",
      "127.0.0.1 - - [16/Jan/2019 00:08:08] \"GET / HTTP/1.1\" 200 -\n",
      "127.0.0.1 - - [16/Jan/2019 00:08:31] \"GET /SET?k=wooo&v=waaahhh HTTP/1.1\" 200 -\n",
      "127.0.0.1 - - [16/Jan/2019 00:08:31] \"GET /SET?k=wooo&v=waaahhh HTTP/1.1\" 200 -\n"
     ]
    },
    {
     "name": "stdout",
     "output_type": "stream",
     "text": [
      "ImmutableMultiDict([('k', 'wooo'), ('v', 'waaahhh')])\n",
      "ImmutableMultiDict([('k', 'wooo'), ('v', 'waaahhh')])\n"
     ]
    },
    {
     "name": "stderr",
     "output_type": "stream",
     "text": [
      "127.0.0.1 - - [16/Jan/2019 00:08:39] \"GET /GET?k=wooo HTTP/1.1\" 200 -\n",
      "127.0.0.1 - - [16/Jan/2019 00:08:39] \"GET /GET?k=wooo HTTP/1.1\" 200 -\n"
     ]
    }
   ],
   "source": [
    "from flask import *\n",
    "app = Flask(__name__)\n",
    "\n",
    "ht = HashTable(1024, 0.85)\n",
    "\n",
    "@app.route(\"/\")\n",
    "def hello():\n",
    "    return '<div></div>'.join(['/SET?k={k}&v={v}', '/GET?k={k}'])\n",
    "\n",
    "@app.route(\"/SET\")\n",
    "def set():\n",
    "    print(request.args)\n",
    "    key = request.args.get('k')\n",
    "    val = request.args.get('v')\n",
    "    response = ht.SET(key, val)\n",
    "    return response\n",
    "    \n",
    "@app.route(\"/GET\")\n",
    "def get():\n",
    "    key = request.args.get('k')\n",
    "    return ht.GET(key)\n",
    "\n",
    "if __name__ == \"__main__\":\n",
    "    app.run()\n",
    "    \n",
    "    #http://localhost:8880/SET?k=123&v=newKey"
   ]
  },
  {
   "cell_type": "code",
   "execution_count": 33,
   "metadata": {},
   "outputs": [
    {
     "name": "stdout",
     "output_type": "stream",
     "text": [
      "Requirement already satisfied: flask in /usr/local/lib/python2.7/site-packages (1.0.2)\r\n",
      "Requirement already satisfied: Jinja2>=2.10 in /usr/local/lib/python2.7/site-packages (from flask) (2.10)\r\n",
      "Requirement already satisfied: itsdangerous>=0.24 in /usr/local/lib/python2.7/site-packages (from flask) (1.1.0)\r\n",
      "Requirement already satisfied: Werkzeug>=0.14 in /usr/local/lib/python2.7/site-packages (from flask) (0.14.1)\r\n",
      "Requirement already satisfied: click>=5.1 in /usr/local/lib/python2.7/site-packages (from flask) (7.0)\r\n",
      "Requirement already satisfied: MarkupSafe>=0.23 in /usr/local/lib/python2.7/site-packages (from Jinja2>=2.10->flask) (1.1.0)\r\n"
     ]
    }
   ],
   "source": [
    "!pip install flask"
   ]
  },
  {
   "cell_type": "code",
   "execution_count": null,
   "metadata": {},
   "outputs": [],
   "source": []
  },
  {
   "cell_type": "code",
   "execution_count": null,
   "metadata": {},
   "outputs": [],
   "source": []
  },
  {
   "cell_type": "code",
   "execution_count": null,
   "metadata": {},
   "outputs": [],
   "source": []
  },
  {
   "cell_type": "code",
   "execution_count": 13,
   "metadata": {},
   "outputs": [
    {
     "data": {
      "text/plain": [
       "'a'"
      ]
     },
     "execution_count": 13,
     "metadata": {},
     "output_type": "execute_result"
    }
   ],
   "source": []
  },
  {
   "cell_type": "code",
   "execution_count": null,
   "metadata": {},
   "outputs": [],
   "source": []
  },
  {
   "cell_type": "code",
   "execution_count": null,
   "metadata": {},
   "outputs": [],
   "source": []
  },
  {
   "cell_type": "code",
   "execution_count": 4,
   "metadata": {},
   "outputs": [
    {
     "data": {
      "text/plain": [
       "['a', 'b', 'c', 'd', 'e', 'f']"
      ]
     },
     "execution_count": 4,
     "metadata": {},
     "output_type": "execute_result"
    }
   ],
   "source": []
  },
  {
   "cell_type": "code",
   "execution_count": null,
   "metadata": {},
   "outputs": [],
   "source": []
  },
  {
   "cell_type": "code",
   "execution_count": null,
   "metadata": {},
   "outputs": [],
   "source": []
  },
  {
   "cell_type": "code",
   "execution_count": 68,
   "metadata": {},
   "outputs": [
    {
     "name": "stdout",
     "output_type": "stream",
     "text": [
      " 2^0:                               1 \n",
      " 2^1:                               2 \n",
      " 2^2:                               4 \n",
      " 2^3:                               8 \n",
      " 2^4:                              16 \n",
      " 2^5:                              32 \n",
      " 2^6:                              64 \n",
      " 2^7:                             128 \n",
      " 2^8:                             256 \n",
      " 2^9:                             512 \n",
      "2^10:                            1024 \n",
      "2^11:                            2048 \n",
      "2^12:                            4096 \n",
      "2^13:                            8192 \n",
      "2^14:                           16384 \n",
      "2^15:                           32768 \n",
      "2^16:                           65536 \n",
      "2^17:                          131072 \n",
      "2^18:                          262144 \n",
      "2^19:                          524288 \n",
      "2^20:                         1048576 \n",
      "2^21:                         2097152 \n",
      "2^22:                         4194304 \n",
      "2^23:                         8388608 \n",
      "2^24:                        16777216 \n",
      "2^25:                        33554432 \n",
      "2^26:                        67108864 \n",
      "2^27:                       134217728 \n",
      "2^28:                       268435456 \n",
      "2^29:                       536870912 \n",
      "2^30:                      1073741824 \n",
      "2^31:                      2147483648 \n",
      "2^32:                      4294967296 \n",
      "2^33:                      8589934592 \n",
      "2^34:                     17179869184 \n",
      "2^35:                     34359738368 \n",
      "2^36:                     68719476736 \n",
      "2^37:                    137438953472 \n",
      "2^38:                    274877906944 \n",
      "2^39:                    549755813888 \n",
      "2^40:                   1099511627776 \n",
      "2^41:                   2199023255552 \n",
      "2^42:                   4398046511104 \n",
      "2^43:                   8796093022208 \n",
      "2^44:                  17592186044416 \n",
      "2^45:                  35184372088832 \n",
      "2^46:                  70368744177664 \n",
      "2^47:                 140737488355328 \n",
      "2^48:                 281474976710656 \n",
      "2^49:                 562949953421312 \n",
      "2^50:                1125899906842624 \n",
      "2^51:                2251799813685248 \n",
      "2^52:                4503599627370496 \n",
      "2^53:                9007199254740992 \n",
      "2^54:               18014398509481984 \n",
      "2^55:               36028797018963968 \n",
      "2^56:               72057594037927936 \n",
      "2^57:              144115188075855872 \n",
      "2^58:              288230376151711744 \n",
      "2^59:              576460752303423488 \n",
      "2^60:             1152921504606846976 \n",
      "2^61:             2305843009213693952 \n",
      "2^62:             4611686018427387904 \n",
      "2^63:             9223372036854775808 \n",
      "2^64:            18446744073709551616 \n",
      "2^65:            36893488147419103232 \n",
      "2^66:            73786976294838206464 \n",
      "2^67:           147573952589676412928 \n",
      "2^68:           295147905179352825856 \n",
      "2^69:           590295810358705651712 \n",
      "2^70:          1180591620717411303424 \n",
      "2^71:          2361183241434822606848 \n",
      "2^72:          4722366482869645213696 \n",
      "2^73:          9444732965739290427392 \n",
      "2^74:         18889465931478580854784 \n",
      "2^75:         37778931862957161709568 \n",
      "2^76:         75557863725914323419136 \n",
      "2^77:        151115727451828646838272 \n",
      "2^78:        302231454903657293676544 \n",
      "2^79:        604462909807314587353088 \n",
      "2^80:       1208925819614629174706176 \n",
      "2^81:       2417851639229258349412352 \n",
      "2^82:       4835703278458516698824704 \n",
      "2^83:       9671406556917033397649408 \n",
      "2^84:      19342813113834066795298816 \n",
      "2^85:      38685626227668133590597632 \n",
      "2^86:      77371252455336267181195264 \n",
      "2^87:     154742504910672534362390528 \n",
      "2^88:     309485009821345068724781056 \n",
      "2^89:     618970019642690137449562112 \n",
      "2^90:    1237940039285380274899124224 \n",
      "2^91:    2475880078570760549798248448 \n",
      "2^92:    4951760157141521099596496896 \n",
      "2^93:    9903520314283042199192993792 \n",
      "2^94:   19807040628566084398385987584 \n",
      "2^95:   39614081257132168796771975168 \n",
      "2^96:   79228162514264337593543950336 \n",
      "2^97:  158456325028528675187087900672 \n",
      "2^98:  316912650057057350374175801344 \n",
      "2^99:  633825300114114700748351602688 \n"
     ]
    }
   ],
   "source": [
    "a = 2\n",
    "offset = 64\n",
    "for i in range(100):\n",
    "    sa = str(a)\n",
    "    si = str(i)\n",
    "    sr = str(2**i)\n",
    "    sp = ' '*(32-len(sr))\n",
    "    if len(si) == 1:\n",
    "        print(\" {0}^{1}:{2}{3} \".format(sa, si, sp, sr))\n",
    "    else:\n",
    "        print(\"{0}^{1}:{2}{3} \".format(sa, si, sp, sr))"
   ]
  },
  {
   "cell_type": "code",
   "execution_count": 63,
   "metadata": {},
   "outputs": [
    {
     "data": {
      "text/plain": [
       "'                                                          '"
      ]
     },
     "execution_count": 63,
     "metadata": {},
     "output_type": "execute_result"
    }
   ],
   "source": []
  },
  {
   "cell_type": "code",
   "execution_count": null,
   "metadata": {},
   "outputs": [],
   "source": []
  },
  {
   "cell_type": "code",
   "execution_count": 71,
   "metadata": {},
   "outputs": [
    {
     "data": {
      "text/plain": [
       "1024"
      ]
     },
     "execution_count": 71,
     "metadata": {},
     "output_type": "execute_result"
    }
   ],
   "source": [
    "2**10"
   ]
  },
  {
   "cell_type": "code",
   "execution_count": null,
   "metadata": {},
   "outputs": [],
   "source": []
  },
  {
   "cell_type": "code",
   "execution_count": null,
   "metadata": {},
   "outputs": [],
   "source": []
  },
  {
   "cell_type": "code",
   "execution_count": null,
   "metadata": {},
   "outputs": [],
   "source": []
  },
  {
   "cell_type": "code",
   "execution_count": 3,
   "metadata": {},
   "outputs": [
    {
     "data": {
      "text/plain": [
       "1000000"
      ]
     },
     "execution_count": 3,
     "metadata": {},
     "output_type": "execute_result"
    }
   ],
   "source": [
    "10**6"
   ]
  },
  {
   "cell_type": "code",
   "execution_count": null,
   "metadata": {},
   "outputs": [],
   "source": []
  }
 ],
 "metadata": {
  "kernelspec": {
   "display_name": "Python 3",
   "language": "python",
   "name": "python3"
  },
  "language_info": {
   "codemirror_mode": {
    "name": "ipython",
    "version": 3
   },
   "file_extension": ".py",
   "mimetype": "text/x-python",
   "name": "python",
   "nbconvert_exporter": "python",
   "pygments_lexer": "ipython3",
   "version": "3.7.0"
  }
 },
 "nbformat": 4,
 "nbformat_minor": 2
}
